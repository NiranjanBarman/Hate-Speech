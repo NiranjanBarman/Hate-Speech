{
 "cells": [
  {
   "cell_type": "code",
   "execution_count": 9,
   "metadata": {},
   "outputs": [],
   "source": [
    "import pandas as pd\n",
    "import numpy as np\n",
    "from sklearn.feature_extraction.text import CountVectorizer\n",
    "from sklearn.model_selection import train_test_split\n",
    "from sklearn.tree import DecisionTreeClassifier"
   ]
  },
  {
   "cell_type": "code",
   "execution_count": 10,
   "metadata": {},
   "outputs": [],
   "source": [
    "import re\n",
    "import nltk\n",
    "from nltk.util import pr\n",
    "stemmer = nltk.SnowballStemmer(\"english\")\n",
    "from nltk.corpus import stopwords\n",
    "import string\n",
    "stopword = set(stopwords.words(\"english\"))"
   ]
  },
  {
   "cell_type": "code",
   "execution_count": 11,
   "metadata": {},
   "outputs": [
    {
     "name": "stdout",
     "output_type": "stream",
     "text": [
      "                                               tweet  label\n",
      "0                                      \"i kill you.\"      1\n",
      "1                               \"what is your name.\"      0\n",
      "2                               \"You fuck your dad.\"      1\n",
      "3  \"i really don't understand your point.\\xa0 It ...      0\n",
      "4  \"A\\\\xc2\\\\xa0majority of Canadians can and has ...      0\n"
     ]
    }
   ],
   "source": [
    "df = pd.read_csv(\"twitter_data.csv\")\n",
    "print(df.head())"
   ]
  },
  {
   "cell_type": "code",
   "execution_count": 12,
   "metadata": {},
   "outputs": [
    {
     "name": "stdout",
     "output_type": "stream",
     "text": [
      "                                               tweet  label  \\\n",
      "0                                      \"i kill you.\"      1   \n",
      "1                               \"what is your name.\"      0   \n",
      "2                               \"You fuck your dad.\"      1   \n",
      "3  \"i really don't understand your point.\\xa0 It ...      0   \n",
      "4  \"A\\\\xc2\\\\xa0majority of Canadians can and has ...      0   \n",
      "\n",
      "                    labels  \n",
      "0     Hate Speech detected  \n",
      "1  No Hate Speech Detected  \n",
      "2     Hate Speech detected  \n",
      "3  No Hate Speech Detected  \n",
      "4  No Hate Speech Detected  \n"
     ]
    }
   ],
   "source": [
    "df['labels'] = df['label'].map({0: \"No Hate Speech Detected\", 1: \"Hate Speech detected\"}) \n",
    "print(df.head())"
   ]
  },
  {
   "cell_type": "code",
   "execution_count": 13,
   "metadata": {},
   "outputs": [
    {
     "name": "stdout",
     "output_type": "stream",
     "text": [
      "                                               tweet                   labels\n",
      "0                                      \"i kill you.\"     Hate Speech detected\n",
      "1                               \"what is your name.\"  No Hate Speech Detected\n",
      "2                               \"You fuck your dad.\"     Hate Speech detected\n",
      "3  \"i really don't understand your point.\\xa0 It ...  No Hate Speech Detected\n",
      "4  \"A\\\\xc2\\\\xa0majority of Canadians can and has ...  No Hate Speech Detected\n"
     ]
    }
   ],
   "source": [
    "df = df[['tweet','labels']]\n",
    "print(df.head())"
   ]
  },
  {
   "cell_type": "code",
   "execution_count": 14,
   "metadata": {},
   "outputs": [
    {
     "name": "stdout",
     "output_type": "stream",
     "text": [
      "                                               tweet                   labels\n",
      "0                                               kill     Hate Speech detected\n",
      "1                                               name  No Hate Speech Detected\n",
      "2                                           fuck dad     Hate Speech detected\n",
      "3        realli dont understand  seem mix appl orang  No Hate Speech Detected\n",
      "4   canadian wrong againnnunless your support ide...  No Hate Speech Detected\n"
     ]
    }
   ],
   "source": [
    "def clean(text):\n",
    "        text = str(text).lower()\n",
    "        text = re.sub('\\[.*?\\]','',text)\n",
    "        text = re.sub('https?://\\s+|www\\.\\s+','',text)\n",
    "        text = re.sub('<.*?>+', '',text)\n",
    "        text = re.sub('[%s]' % re.escape(string.punctuation), '', text)\n",
    "        text = re.sub('\\n', '', text)\n",
    "        text = re.sub('\\w*\\d\\w*', '', text)\n",
    "        text = [word for word in text.split(' ') if word not in stopword]\n",
    "        text=\" \".join(text)\n",
    "        text = [stemmer.stem(word) for word in text.split(' ')]\n",
    "        text=\" \".join(text)\n",
    "        return text\n",
    "df[\"tweet\"] = df[\"tweet\"].apply(clean)\n",
    "print(df.head())"
   ]
  },
  {
   "cell_type": "code",
   "execution_count": 15,
   "metadata": {},
   "outputs": [
    {
     "data": {
      "text/plain": [
       "DecisionTreeClassifier()"
      ]
     },
     "execution_count": 15,
     "metadata": {},
     "output_type": "execute_result"
    }
   ],
   "source": [
    "df.isnull()\n",
    "df.isnull().sum().sum()\n",
    "df.dropna(inplace=True)\n",
    "\n",
    "x = np.array(df[\"tweet\"])\n",
    "y = np.array(df[\"labels\"])\n",
    "cv = CountVectorizer()\n",
    "x = cv.fit_transform(x)\n",
    "X_train, X_test, y_train, y_test = train_test_split(x,y, test_size = 0.33, random_state = 42)\n",
    "clf = DecisionTreeClassifier()\n",
    "clf.fit(X_train,y_train)\n"
   ]
  },
  {
   "cell_type": "code",
   "execution_count": 17,
   "metadata": {},
   "outputs": [
    {
     "name": "stdout",
     "output_type": "stream",
     "text": [
      "['No Hate Speech Detected']\n"
     ]
    }
   ],
   "source": [
    "test_data= (\"what is yor name \")\n",
    "df = cv.transform([test_data]).toarray()\n",
    "print(clf.predict(df))\n",
    "#Speak(clf.predict(df))"
   ]
  }
 ],
 "metadata": {
  "kernelspec": {
   "display_name": "Python 3",
   "language": "python",
   "name": "python3"
  },
  "language_info": {
   "codemirror_mode": {
    "name": "ipython",
    "version": 3
   },
   "file_extension": ".py",
   "mimetype": "text/x-python",
   "name": "python",
   "nbconvert_exporter": "python",
   "pygments_lexer": "ipython3",
   "version": "3.7.4"
  }
 },
 "nbformat": 4,
 "nbformat_minor": 2
}
